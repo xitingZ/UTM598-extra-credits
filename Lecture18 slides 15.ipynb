{
 "cells": [
  {
   "cell_type": "code",
   "execution_count": 2,
   "id": "720c876d",
   "metadata": {},
   "outputs": [],
   "source": [
    "import sympy as sy\n",
    "import numpy as np\n",
    "from scipy.optimize import minimize\n",
    "import matplotlib.pyplot as plt\n",
    "from numpy import arange\n",
    "from numpy import meshgrid\n",
    "import scipy.optimize as sopt"
   ]
  },
  {
   "cell_type": "code",
   "execution_count": 6,
   "id": "e34f26ea",
   "metadata": {},
   "outputs": [],
   "source": [
    "z = lambda Q,x1,x2,x3: Q\n",
    "\n",
    "def fun1(x):\n",
    "    Q,x1,x2,x3 = x[0],x[1], x[2],x[3]\n",
    "    return np.array([\n",
    "        x1 + x2 + x3 - 10\n",
    "    ])\n",
    "\n",
    "def fun2(x):\n",
    "    Q,x1,x2,x3= x[0],x[1], x[2],x[3]\n",
    "    return np.array([\n",
    "        -(0.1*x1+0.2*x2+0.3*x3) + Q\n",
    "    ])\n",
    "\n",
    "cons1 = {'type': 'eq', 'fun': fun1}\n",
    "cons2 = {'type': 'ineq', 'fun': fun2}\n",
    "constraints = ([cons1,cons2])\n",
    "x0 = [1.5,1.5,1.5,0]\n",
    "bounds = [(0,None),(0,None),(0,None),(0,None)]\n",
    "res = minimize(lambda x:z(x[0],x[1],x[2],x[3]),x0,method = 'SLSQP', bounds = bounds, constraints=constraints)"
   ]
  },
  {
   "cell_type": "code",
   "execution_count": 7,
   "id": "c282f37b",
   "metadata": {},
   "outputs": [
    {
     "data": {
      "text/plain": [
       "     fun: 1.000000010256877\n",
       "     jac: array([1., 0., 0., 0.])\n",
       " message: 'Optimization terminated successfully'\n",
       "    nfev: 45\n",
       "     nit: 9\n",
       "    njev: 9\n",
       "  status: 0\n",
       " success: True\n",
       "       x: array([1.00000001e+00, 1.00000000e+01, 6.66133815e-16, 0.00000000e+00])"
      ]
     },
     "execution_count": 7,
     "metadata": {},
     "output_type": "execute_result"
    }
   ],
   "source": [
    "res"
   ]
  },
  {
   "cell_type": "markdown",
   "id": "055fe8c6",
   "metadata": {},
   "source": [
    "Hence Q = 1 and x1 = 10"
   ]
  }
 ],
 "metadata": {
  "kernelspec": {
   "display_name": "Python 3",
   "language": "python",
   "name": "python3"
  },
  "language_info": {
   "codemirror_mode": {
    "name": "ipython",
    "version": 3
   },
   "file_extension": ".py",
   "mimetype": "text/x-python",
   "name": "python",
   "nbconvert_exporter": "python",
   "pygments_lexer": "ipython3",
   "version": "3.8.8"
  }
 },
 "nbformat": 4,
 "nbformat_minor": 5
}
