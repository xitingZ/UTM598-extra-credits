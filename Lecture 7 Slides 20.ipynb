{
 "cells": [
  {
   "cell_type": "code",
   "execution_count": 1,
   "id": "116f2227",
   "metadata": {},
   "outputs": [],
   "source": [
    "import sympy as sy\n",
    "import numpy as np\n",
    "from scipy.optimize import minimize\n",
    "import matplotlib.pyplot as plt\n",
    "from numpy import arange\n",
    "from numpy import meshgrid\n",
    "import scipy.optimize as sopt"
   ]
  },
  {
   "cell_type": "code",
   "execution_count": 22,
   "id": "a1bf10b9",
   "metadata": {},
   "outputs": [],
   "source": [
    "z = lambda t1,t2,t3,t4,t5,t6,t7,lam1,lam2: 1791*t1 + 1848*t2+1209*t3+2365*t4+1155*t5+1214*t6+1157*t7\n",
    "\n",
    "\n",
    "def fun1(x):\n",
    "    t1,t2,t3,t4,t5,t6,t7,lam1,lam2= x[0],x[1],x[2],x[3],x[4],x[5],x[6],x[7],x[8]\n",
    "    return ([8.77 + t1 - lam1,\n",
    "             11.18 + t3 + t4 + t6 - lam1,\n",
    "             9.99 + t2 - lam2,\n",
    "             13.19 + t4 + t5 + t7 - lam2\n",
    "            ])\n",
    "\n",
    "def fun2(x):\n",
    "    t1,t2,t3,t4,t5,t6,t7,lam1,lam2= x[0],x[1],x[2],x[3],x[4],x[5],x[6],x[7],x[8]\n",
    "    return (lam1 + lam2 - 0.597*t1 - 0.616*t2 - 0.403*t3 - 0.788*t4 - 0.385*t5 - 0.405*t6 - 0.386*t7 - 20.98\n",
    "            )\n",
    "\n",
    "cons1 = {'type': 'ineq', 'fun': fun1}\n",
    "cons2 = {'type': 'eq', 'fun': fun2}\n",
    "constraints = ([cons1,cons2])\n",
    "x0 = [2.4,3.2,0,0,0,0,0,11.18,978.23]\n",
    "bounds = [(0,None),(0,None),(0,None),(0,None),(0,None),(0,None),(0,None),(0,None),(0,None)]\n",
    "res = minimize(lambda x: z(x[0],x[1],x[2],x[3],x[4],x[5],x[6],x[7],x[8]),x0,method = 'SLSQP', bounds = bounds, constraints=constraints)\n",
    "\n"
   ]
  },
  {
   "cell_type": "code",
   "execution_count": 23,
   "id": "627edbcc",
   "metadata": {},
   "outputs": [
    {
     "data": {
      "text/plain": [
       "     fun: 10212.0\n",
       "     jac: array([1791., 1848., 1209., 2365., 1155., 1214., 1157.,    0.,    0.])\n",
       " message: 'Positive directional derivative for linesearch'\n",
       "    nfev: 10\n",
       "     nit: 5\n",
       "    njev: 1\n",
       "  status: 8\n",
       " success: False\n",
       "       x: array([  2.4 ,   3.2 ,   0.  ,   0.  ,   0.  ,   0.  ,   0.  ,  11.18,\n",
       "       978.23])"
      ]
     },
     "execution_count": 23,
     "metadata": {},
     "output_type": "execute_result"
    }
   ],
   "source": [
    "res"
   ]
  },
  {
   "cell_type": "code",
   "execution_count": 24,
   "id": "a95de7ca",
   "metadata": {},
   "outputs": [],
   "source": [
    "xstar1,xstar2,xstar3,xstar4,xstar5 = round(res.x[0],2),round(res.x[1],2),round(res.x[2],2),round(res.x[3],2),round(res.x[4],2)"
   ]
  },
  {
   "cell_type": "code",
   "execution_count": 25,
   "id": "9c2d7849",
   "metadata": {},
   "outputs": [
    {
     "name": "stdout",
     "output_type": "stream",
     "text": [
      "2.4 3.2 0.0 0.0 0.0\n"
     ]
    }
   ],
   "source": [
    "print(xstar1,xstar2,xstar3,xstar4,xstar5)"
   ]
  },
  {
   "cell_type": "code",
   "execution_count": 26,
   "id": "4af199be",
   "metadata": {},
   "outputs": [
    {
     "name": "stdout",
     "output_type": "stream",
     "text": [
      "τ1: 2.4 τ2: 3.2 τ3: 0.0 τ4: 0.0 τ5: 0.0 τ6: 0.0 τ7: 0.0\n",
      "λ1: 11.18\n",
      "λ2: 978.23\n"
     ]
    }
   ],
   "source": [
    "print('τ1:',round(res.x[0],2),'τ2:',round(res.x[1],2),'τ3:',round(res.x[2],2),'τ4:',round(res.x[3],2),\\\n",
    "      'τ5:',round(res.x[4],2),'τ6:',round(res.x[5],2),'τ7:',round(res.x[6],2))\n",
    "print('λ1:',round(res.x[7],2))\n",
    "print('λ2:',round(res.x[8],2))"
   ]
  },
  {
   "cell_type": "code",
   "execution_count": null,
   "id": "334ab374",
   "metadata": {},
   "outputs": [],
   "source": []
  },
  {
   "cell_type": "code",
   "execution_count": null,
   "id": "a18464c3",
   "metadata": {},
   "outputs": [],
   "source": []
  }
 ],
 "metadata": {
  "kernelspec": {
   "display_name": "Python 3",
   "language": "python",
   "name": "python3"
  },
  "language_info": {
   "codemirror_mode": {
    "name": "ipython",
    "version": 3
   },
   "file_extension": ".py",
   "mimetype": "text/x-python",
   "name": "python",
   "nbconvert_exporter": "python",
   "pygments_lexer": "ipython3",
   "version": "3.8.8"
  }
 },
 "nbformat": 4,
 "nbformat_minor": 5
}
