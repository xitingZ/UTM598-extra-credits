{
 "cells": [
  {
   "cell_type": "code",
   "execution_count": 1,
   "id": "838fb68e",
   "metadata": {},
   "outputs": [],
   "source": [
    "import sympy as sy\n",
    "import numpy as np\n",
    "from scipy.optimize import minimize\n",
    "import matplotlib.pyplot as plt\n",
    "from numpy import arange\n",
    "from numpy import meshgrid\n",
    "import scipy.optimize as sopt"
   ]
  },
  {
   "cell_type": "code",
   "execution_count": 2,
   "id": "69ed804d",
   "metadata": {},
   "outputs": [],
   "source": [
    "# Link performance function\n",
    "t = lambda xa,ca: 1+0.15*(xa/ca)**4     \n",
    "\n",
    "# Integration of link performance function\n",
    "int_t1 = lambda x1:  1/2*x1**2 + x1\n",
    "int_t2 = lambda x2:  1/2*x2**2 + 4*x2\n",
    "int_t3 = lambda x3:  1/2*x3**2 + x3\n"
   ]
  },
  {
   "cell_type": "code",
   "execution_count": 14,
   "id": "bb54a4bf",
   "metadata": {},
   "outputs": [
    {
     "name": "stdout",
     "output_type": "stream",
     "text": [
      "Flow in link1,link2,link3: 2.0 1.0 1.0\n",
      "Total cost in the network: 10.0\n",
      "Total emission: 0.53\n",
      "Whether the results is success: True\n"
     ]
    }
   ],
   "source": [
    "# Objective function\n",
    "z = lambda x1,x2,x3,f12,f123,f13:1/2*x1**2 + x1 + 1/2*x2**2 + 4*x2 + 1/2*x3**2 + x3\n",
    "\n",
    "def fun1(x):\n",
    "    x1,x2,x3,f12,f123,f13= x[0],x[1], x[2],x[3],x[4],x[5]\n",
    "    return np.array([\n",
    "        f12 - 1,    \n",
    "        f123 + f13 - 2,\n",
    "        x1 - f12 - f123,\n",
    "        x2 - f13,\n",
    "        x3 - f123\n",
    "        \n",
    "    ])\n",
    "\n",
    "# All the path flows are non-negative\n",
    "def fun2(x):\n",
    "    x1,x2,x3,f12,f123,f13= x[0],x[1], x[2],x[3],x[4],x[5]\n",
    "    return np.array([\n",
    "        x1,x2,x3,f12,f123,f13\n",
    "    ])\n",
    "\n",
    "cons1 = {'type': 'eq', 'fun': fun1}\n",
    "cons2 = {'type': 'ineq', 'fun': fun2}\n",
    "constraints = ([cons1,cons2])\n",
    "x0 = [1.7,2.3,0.3,2,2,2]\n",
    "bounds = [(0,None),(0,None),(0,None),(0,None),(0,None),(0,None)]\n",
    "res = minimize(lambda x:z(x[0],x[1], x[2],x[3],x[4],x[5]),x0,method = 'SLSQP',bounds = bounds, constraints=constraints)\n",
    "xstar1,xstar2,xstar3,f12,f123,f13= round(res.x[0],2),round(res.x[1],2),round(res.x[2],2),round(res.x[3],2),round(res.x[4],2),round(res.x[5],2)\n",
    "print('Flow in link1,link2,link3:', xstar1,xstar2,xstar3)\n",
    "print('Total cost in the network:',round(res.fun,2))\n",
    "print('Total emission:',0.01*xstar1 + 0.01*xstar2 + 0.5*xstar3)\n",
    "print('Whether the results is success:',res.success)"
   ]
  },
  {
   "cell_type": "code",
   "execution_count": null,
   "id": "de973bf9",
   "metadata": {},
   "outputs": [],
   "source": []
  }
 ],
 "metadata": {
  "kernelspec": {
   "display_name": "Python 3",
   "language": "python",
   "name": "python3"
  },
  "language_info": {
   "codemirror_mode": {
    "name": "ipython",
    "version": 3
   },
   "file_extension": ".py",
   "mimetype": "text/x-python",
   "name": "python",
   "nbconvert_exporter": "python",
   "pygments_lexer": "ipython3",
   "version": "3.8.8"
  }
 },
 "nbformat": 4,
 "nbformat_minor": 5
}
