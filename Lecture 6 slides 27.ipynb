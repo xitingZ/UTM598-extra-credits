{
 "cells": [
  {
   "cell_type": "code",
   "execution_count": 1,
   "id": "aa5e7eb8",
   "metadata": {},
   "outputs": [],
   "source": [
    "import sympy as sy\n",
    "import numpy as np\n",
    "from scipy.optimize import minimize\n",
    "import matplotlib.pyplot as plt\n",
    "from numpy import arange\n",
    "from numpy import meshgrid\n",
    "import scipy.optimize as sopt"
   ]
  },
  {
   "cell_type": "code",
   "execution_count": 3,
   "id": "5b1ac6f8",
   "metadata": {},
   "outputs": [
    {
     "name": "stdout",
     "output_type": "stream",
     "text": [
      "Flow in link1,link2,link3,link4,link5: 99.96754278776248 75.02692670882261 1900.0324572122374 924.9730732911775 174.9944694965851\n",
      "Total cost in the network: 4456.25\n",
      "Whether the results is success: True\n"
     ]
    }
   ],
   "source": [
    "# Objective function\n",
    "z = lambda x13,x23,x14,x24,x34:(0.5*x13+0.5*0.001*x13**2)+(0.5*x23+0.5*0.001*x23**2) +(x14+0.5*0.0005*x14**2)\\\n",
    "                                +(x24+0.5*0.001*x24**2) + +(x34+0.5*0.002*x34**2)\n",
    "\n",
    "def fun1(x):\n",
    "    x13,x23,x14,x24,x34 = x[0],x[1], x[2], x[3], x[4]\n",
    "    return np.array([\n",
    "        x13 + x14 - 2000,         \n",
    "        x23 + x24 - 1000,        \n",
    "        x13+x23-x34,        \n",
    "    ])\n",
    "\n",
    "# All the path flows are non-negative\n",
    "def fun2(x):\n",
    "    x13,x23,x14,x24,x34  = x[0],x[1], x[2], x[3], x[4]\n",
    "    return np.array([\n",
    "        x13,x23,x14,x24,x34 \n",
    "    ])\n",
    "\n",
    "cons1 = {'type': 'eq', 'fun': fun1}\n",
    "cons2 = {'type': 'ineq', 'fun': fun2}\n",
    "constraints = ([cons1,cons2])\n",
    "x0 = [1.7,2.3,0.3,0.0,0.0]\n",
    "bounds = [(0,None),(0,None),(0,None),(0,None),(0,None)]\n",
    "res = minimize(lambda x:z(x[0],x[1],x[2],x[3],x[4]),x0,method = 'SLSQP',bounds = bounds, constraints=constraints)\n",
    "xstar1,xstar2,xstar3,xstar4,xstar5 = res.x[0],res.x[1],res.x[2],res.x[3],res.x[4]\n",
    "print('Flow in link1,link2,link3,link4,link5:', res.x[0],res.x[1],res.x[2],res.x[3],res.x[4])\n",
    "# print('From node 1 to node 2, the travel time in Path:', round(t(xstar1,1),2),round((t(xstar2,2)+t(xstar3,3)),2))\n",
    "# print('From node 3 to node 2, the travel time in Path:', round(t(xstar2,2),2))\n",
    "print('Total cost in the network:',round(res.fun,2))\n",
    "print('Whether the results is success:',res.success)"
   ]
  },
  {
   "cell_type": "code",
   "execution_count": 6,
   "id": "83cec8ec",
   "metadata": {},
   "outputs": [
    {
     "name": "stdout",
     "output_type": "stream",
     "text": [
      "t 0.5999675427877624 0.5750269267088226 1.9500162286061187 1.9249730732911776 1.3499889389931703\n"
     ]
    }
   ],
   "source": [
    "t13 = 0.5+0.001*xstar1\n",
    "t23 = 0.5+0.001*xstar2\n",
    "t14 = 1+0.0005*xstar3\n",
    "t24 = 1+0.001*xstar4\n",
    "t34 = 1+0.002*xstar5\n",
    "print('t:',t13,t23,t14,t24,t34)"
   ]
  },
  {
   "cell_type": "code",
   "execution_count": 7,
   "id": "a1d107da",
   "metadata": {},
   "outputs": [],
   "source": [
    "T = t13*xstar1 + t23*xstar2 + t14*xstar3 + t24*xstar4 + t34*xstar5"
   ]
  },
  {
   "cell_type": "code",
   "execution_count": 9,
   "id": "1ea83bf1",
   "metadata": {},
   "outputs": [
    {
     "name": "stdout",
     "output_type": "stream",
     "text": [
      "T: 5825.002768343182\n"
     ]
    }
   ],
   "source": [
    "print('T:',T)"
   ]
  },
  {
   "cell_type": "code",
   "execution_count": null,
   "id": "5c60ef38",
   "metadata": {},
   "outputs": [],
   "source": []
  }
 ],
 "metadata": {
  "kernelspec": {
   "display_name": "Python 3",
   "language": "python",
   "name": "python3"
  },
  "language_info": {
   "codemirror_mode": {
    "name": "ipython",
    "version": 3
   },
   "file_extension": ".py",
   "mimetype": "text/x-python",
   "name": "python",
   "nbconvert_exporter": "python",
   "pygments_lexer": "ipython3",
   "version": "3.8.8"
  }
 },
 "nbformat": 4,
 "nbformat_minor": 5
}
